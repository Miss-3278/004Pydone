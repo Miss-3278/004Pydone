{
 "cells": [
  {
   "cell_type": "markdown",
   "metadata": {},
   "source": [
    "#  001.python 的几个基本概念\n",
    "\n",
    "索引：\n",
    "* 数据类型\n",
    "* 变量\n",
    "* 函数及其参数\n",
    "* 类"
   ]
  },
  {
   "cell_type": "markdown",
   "metadata": {},
   "source": [
    "## 数据类型\n",
    "\n",
    "python 的数据类型有：字符串、数字、列表、元组和字典。每种数据类型都有自己的特色用法和自己的标识符号。\n",
    "初识 python，先来熟悉三种常用的数据类型：字符串、数字和列表。\n",
    "\n",
    "### 字符串(strs)\n",
    "\n",
    "字符串总是用单引号('')或者双引号(\"\")包围住，例如："
   ]
  },
  {
   "cell_type": "code",
   "execution_count": null,
   "metadata": {
    "collapsed": true
   },
   "outputs": [],
   "source": [
    "\"Hello world!\"\n",
    "'123'"
   ]
  },
  {
   "cell_type": "markdown",
   "metadata": {},
   "source": [
    "其中'123'用单引号包围住，它的数据类型就是字符串。\n",
    "\n",
    "**strskill:** 字符串可以连接和复制，例如："
   ]
  },
  {
   "cell_type": "code",
   "execution_count": 6,
   "metadata": {},
   "outputs": [
    {
     "name": "stdout",
     "output_type": "stream",
     "text": [
      "Helloworld\n",
      "Hello123\n",
      "HelloHelloHello\n"
     ]
    }
   ],
   "source": [
    "print('Hello' + 'world' )\n",
    "print('Hello' + '123') # 字符串连接\n",
    "print('Hello' * 3 )# 字符串复制"
   ]
  },
  {
   "cell_type": "markdown",
   "metadata": {},
   "source": [
    "### 数字\n",
    "\n",
    "数字分为两种类型：整数(int)和浮点数(float)。例如:"
   ]
  },
  {
   "cell_type": "code",
   "execution_count": null,
   "metadata": {
    "collapsed": true
   },
   "outputs": [],
   "source": [
    "2，1，0，9，-4，-1 # 整数\n",
    "-1.25，-0.5，0.0，1.0，1.35 # 浮点数"
   ]
  },
  {
   "cell_type": "markdown",
   "metadata": {},
   "source": [
    "**intskill:** 数字可以进行加、减、乘、除、除余等的数学运算。"
   ]
  },
  {
   "cell_type": "markdown",
   "metadata": {},
   "source": [
    "### 列表(list)\n",
    "\n",
    "“列表”是一个值，它包含多个字构成一个**序列**。用方括号([])包围起来，中间用逗号(,)分隔，例如："
   ]
  },
  {
   "cell_type": "code",
   "execution_count": 10,
   "metadata": {},
   "outputs": [
    {
     "name": "stdout",
     "output_type": "stream",
     "text": [
      "['one', 'two', 'three', 'four']\n"
     ]
    }
   ],
   "source": [
    "list = ['one', 'two', 'three', 'four'] # 这是一个列表\n",
    "print(list)"
   ]
  },
  {
   "cell_type": "markdown",
   "metadata": {},
   "source": [
    "“列表值”指的是列表本身，而非列表之内的值；而列表中的值称为“表项”。\n",
    "\n",
    "**listskill:** 要取得列表中的某一项的值，可以用表项的下标。以上面的列表为例，list[0] 的值为 'one', list[1]的值为'two'。也就是说，列表中第一个值的下表是 0，第二个值得下表是 1，第三个值的下表是 2，以此类推。例如："
   ]
  },
  {
   "cell_type": "code",
   "execution_count": 11,
   "metadata": {},
   "outputs": [
    {
     "name": "stdout",
     "output_type": "stream",
     "text": [
      "two\n",
      "three\n",
      "four\n",
      "Hello one\n"
     ]
    }
   ],
   "source": [
    "list = ['one', 'two', 'three', 'four'] # 这是一个列表\n",
    "print(list[1]) # 'two'\n",
    "print(list[2]) # 'three'\n",
    "print(list[3]) # four\n",
    "print('Hello ' + list[0]) # 求值为 'Hello' + 'one'"
   ]
  },
  {
   "cell_type": "markdown",
   "metadata": {},
   "source": [
    "## 变量 （variable）\n",
    "\n",
    "万千世界，程序员如何简单快捷地记住并表达这自然中的世界？用变量来指代和封装！变量像一个盒子，盒子里装的东西也是一个值，当我们把东西装到变量这个盒子里，我们就可以把盒子理解为这个东西。比如我把《理想国》这本书装进变量盒子，并给这个变量盒子取一个名字叫做 book，那么当你跟计算机提起 book 的时候，它就会告诉你 《理想国》。\n"
   ]
  },
  {
   "cell_type": "code",
   "execution_count": 12,
   "metadata": {},
   "outputs": [
    {
     "name": "stdout",
     "output_type": "stream",
     "text": [
      "《理想国》\n"
     ]
    }
   ],
   "source": [
    "book = \"《理想国》\"\n",
    "print(book)"
   ]
  },
  {
   "cell_type": "markdown",
   "metadata": {},
   "source": [
    "上面代码中，book = \"《理想国》\"，就是变量的赋值语句，将《理想国》这个值保存在 book 变量中，就好像把《理想国》这本书放到了 book 盒子中。\n",
    "\n",
    "**「赋值语句」包含一个变量名称，一个等号(=)以及一个要存储的值。**\n",
    "\n",
    "**varskill:** 什么是合法的变量名？符合以下 3 条规则：\n",
    "    1. 只能是一个词。\n",
    "    2. 只能包含字母、数字和下划线。\n",
    "    3. 不能以数字开头。\n",
    "    "
   ]
  },
  {
   "cell_type": "markdown",
   "metadata": {},
   "source": [
    "## 函数（function）及其参数（parameter）\n",
    "\n",
    "### 先来看一个函数的小例子："
   ]
  },
  {
   "cell_type": "code",
   "execution_count": 17,
   "metadata": {},
   "outputs": [
    {
     "name": "stdout",
     "output_type": "stream",
     "text": [
      "wow!\n",
      "wow!\n",
      "Hello world!\n",
      "wow!\n",
      "wow!\n",
      "Hello world!\n"
     ]
    }
   ],
   "source": [
    "def hello(): # 用 def'Han Meimei' 语句，定义一个名为 hello() 的函数\n",
    "    print('wow!')  # 以下是调用 hello() 这个函数是要执行的任务。\n",
    "    print('wow!')\n",
    "    print(\"Hello world!\")\n",
    "    \n",
    "hello() # 调用 hello()  函数，从函数语句下的第一韩开始执行代码，知道函数的末尾，就回到调用函数的那一行，继续像以前一样向下执行代码\n",
    "hello() # 第二次调用 hello() 函数"
   ]
  },
  {
   "cell_type": "markdown",
   "metadata": {},
   "source": [
    "我们首先来反着看，先来看这个函数的执行结果。在没有学习函数以前，如果我们要实现上面的结果，要怎么做呢？想 2 秒。"
   ]
  },
  {
   "cell_type": "code",
   "execution_count": 15,
   "metadata": {},
   "outputs": [
    {
     "name": "stdout",
     "output_type": "stream",
     "text": [
      "wow!\n",
      "wow!\n",
      "Hello world!\n",
      "wow!\n",
      "wow!\n",
      "Hello world!\n"
     ]
    }
   ],
   "source": [
    "print('wow!')\n",
    "print('wow!')\n",
    "print('Hello world!')\n",
    "print('wow!')\n",
    "print('wow!')\n",
    "print('Hello world!')"
   ]
  },
  {
   "cell_type": "markdown",
   "metadata": {},
   "source": [
    "如果学会了函数，我们就不用这么重复的输入，直接定义一个函数，想让它打印多少遍就可以多少遍，想什么时候打印就什么时候打印，只要条用函数，就可以出来！是不是方便快捷很多。由此可见，**函数的一个主要目的就是将需要多次执行的代码放到一起，消除重复，使程序更短、更易读、更容易更新。** 函数可以用来创建”迷你脚本“或者”小命令“。"
   ]
  },
  {
   "cell_type": "markdown",
   "metadata": {},
   "source": [
    "### 再来看一个函数和参数的例子："
   ]
  },
  {
   "cell_type": "code",
   "execution_count": 19,
   "metadata": {},
   "outputs": [
    {
     "name": "stdout",
     "output_type": "stream",
     "text": [
      "Hello Li Lei\n",
      "Hello Han Meimei\n"
     ]
    }
   ],
   "source": [
    "def hello(name): # 用 def 语句定义 hello() 函数，其中有一个名为 name 的变量，使用在函数里叫做「参数」\n",
    "    print('Hello ' + name) # 调用 hello() 函数时要执行的任务\n",
    "    \n",
    "hello('Li Lei') # 第一次调用 hello() 函数，使用的参数是 'Li Lei'.程序执行该函数，变量 name 自动赋值为 'Li Lei'\n",
    "hello('Han Meimei') # 第二次调用 hello() 函数，上一次执行函数保存到变量 name 中的值在函数返回后就丢弃，这一次变量 name 自动赋值为 'Han Meimei'\n",
    "\n"
   ]
  },
  {
   "cell_type": "markdown",
   "metadata": {},
   "source": [
    "**defskill:** 通过以上两个例子，我们来总结一下如何创建一个函数：\n",
    "\n",
    "           def 函数名称(参数1，参数2，……):\n",
    "               函数体（语句块）\n",
    "               \n",
    "           要点：\n",
    "           1. 以 def 开始\n",
    "           2. 函数名称以字符和下划线组成\n",
    "           3. 参数包围在括号内，注意左右括号是否写完整\n",
    "           4. 函数以冒号(:)结束\n",
    "           5. 函数体的部分要使用 4 个空格的缩进\n",
    "           6. 函数结束的位置取消缩进\n",
    "        \n",
    "     "
   ]
  },
  {
   "cell_type": "markdown",
   "metadata": {},
   "source": [
    "再来看一段代码，体会函数、参数和变量（代码来自 [\"笨办法\"学Python ](https://book.douban.com/subject/26264642/) ex19）"
   ]
  },
  {
   "cell_type": "code",
   "execution_count": 21,
   "metadata": {},
   "outputs": [
    {
     "name": "stdout",
     "output_type": "stream",
     "text": [
      "We can just give the function numbers directly:\n",
      "You have 20 cheeses!\n",
      "You have 30 boxes of crackers!\n",
      "Man that's enough for a party!\n",
      "Get a blank.\n",
      "\n",
      "OR, we can use variables from our script:\n",
      "You have 10 cheeses!\n",
      "You have 50 boxes of crackers!\n",
      "Man that's enough for a party!\n",
      "Get a blank.\n",
      "\n",
      "We can even do math inside too:\n",
      "You have 30 cheeses!\n",
      "You have 11 boxes of crackers!\n",
      "Man that's enough for a party!\n",
      "Get a blank.\n",
      "\n",
      "And we can combine the two, variables and math:\n",
      "You have 110 cheeses!\n",
      "You have 1050 boxes of crackers!\n",
      "Man that's enough for a party!\n",
      "Get a blank.\n",
      "\n"
     ]
    }
   ],
   "source": [
    "#! /urs/bin/env python\n",
    "# coding=utf-8\n",
    "\n",
    "# 可以直接给函数的参数传递数字、变量、数学表达式，甚至数学表达式和变量合起来用\n",
    "\n",
    "def cheeses_and_crackers(cheese_count, boxes_of_crackers):\n",
    "    print(\"You have %d cheeses!\" % cheese_count)\n",
    "    print(\"You have %d boxes of crackers!\" % boxes_of_crackers)\n",
    "    print(\"Man that's enough for a party!\")\n",
    "    print(\"Get a blank.\\n\")\n",
    "    \n",
    "print(\"We can just give the function numbers directly:\")\n",
    "cheeses_and_crackers(20, 30) # 给变量的参数赋值，并且调用函数\n",
    "\n",
    "print(\"OR, we can use variables from our script:\")\n",
    "amount_of_cheese = 10\n",
    "amount_of_crackers = 50\n",
    "\n",
    "cheeses_and_crackers(amount_of_cheese, amount_of_crackers)\n",
    "\n",
    "\n",
    "print(\"We can even do math inside too:\")\n",
    "cheeses_and_crackers(10 + 20, 5 + 6)\n",
    "\n",
    "print(\"And we can combine the two, variables and math:\")\n",
    "cheeses_and_crackers(amount_of_cheese + 100, amount_of_crackers + 1000)\n",
    "\n",
    "# 一个物件可以用=对其命名，通常也可以将其作为参数传递给一个函数，在函数里叫参数，不在函数里叫变量\n"
   ]
  },
  {
   "cell_type": "markdown",
   "metadata": {},
   "source": [
    "### 返回值和 return 语句\n",
    "\n",
    "用 def 语句创建函数时，可以用 return 语句指定应该返回什么值。return 语句包含以下部分：\n",
    "    \n",
    "  * return 关键字\n",
    "  * 函数应该返回的值或表达式\n",
    "  \n",
    "  如果在 return 语句中使用了表达式，返回值就是该表达式求值的结果。\n",
    "  \n",
    "来看一个例子， [\"笨办法\"学Python ](https://book.douban.com/subject/26264642/) ex21的一部分"
   ]
  },
  {
   "cell_type": "code",
   "execution_count": 23,
   "metadata": {},
   "outputs": [
    {
     "name": "stdout",
     "output_type": "stream",
     "text": [
      "Let's do some math with just functions!\n",
      "ADDING 30 + 5\n",
      "SUBTRACTING 78 -4\n",
      "MULTTPLING 90 * 2\n",
      "DIVIDING 100 / 2\n",
      "Age: 35, Hight: 74, Weight: 180, IQ: 50\n"
     ]
    }
   ],
   "source": [
    "def add(a, b):\n",
    "    print(\"ADDING %d + %d\" % (a, b)) # 打印“ADDING a + b”\n",
    "    return a + b # 返回 a + b 的值，将放在等号=右边的东西作为一个函数的值返回\n",
    "    \n",
    "def subtract(a, b):\n",
    "    print(\"SUBTRACTING %d -%d\" % (a, b))\n",
    "    return a - b\n",
    "    \n",
    "def multiply(a, b):\n",
    "    print(\"MULTTPLING %d * %d\" % (a, b))\n",
    "    return a * b\n",
    "\n",
    "def divide(a, b):\n",
    "    print(\"DIVIDING %d / %d\" % (a, b))\n",
    "    return a / b\n",
    "    \n",
    "print(\"Let's do some math with just functions!\")\n",
    "\n",
    "age = add(30, 5)\n",
    "height = subtract(78, 4)\n",
    "weight = multiply(90, 2)\n",
    "iq = divide(100, 2)  \n",
    "\n",
    "print(\"Age: %d, Hight: %d, Weight: %d, IQ: %d\" % (age, height, weight, iq))"
   ]
  },
  {
   "cell_type": "markdown",
   "metadata": {},
   "source": [
    "## 类（class）\n",
    "\n",
    "类是 python 中更加复杂的结构。先来看一段关于类的程序代码（来自[\"笨办法\"学Python ](https://book.douban.com/subject/26264642/) ex40, 我自己加了一点 ）："
   ]
  },
  {
   "cell_type": "code",
   "execution_count": 24,
   "metadata": {},
   "outputs": [
    {
     "name": "stdout",
     "output_type": "stream",
     "text": [
      "Happy birthday to you\n",
      "I don't want to get sued\n",
      "So I'll stop right there\n",
      "They rally around the family\n",
      "With pockets full of shells\n",
      "多谢你如此精彩耀眼\n",
      "做我平淡岁月里星辰\n",
      "借我不惧碾压的鲜活\n",
      "借我生命与猛撞不问明天\n",
      "借我一束光照亮黯淡\n",
      "借我笑颜灿烂如春天\n"
     ]
    }
   ],
   "source": [
    "#! /urs/bin/env python\n",
    "# coding=utf-8\n",
    "\n",
    "\n",
    "class Song(object):  # 创建一个类，名字叫做 Song，它是 object 的一种\n",
    "    \n",
    "    def __init__(self, lyrics): # 初始化函数，将初始化的属性放到这个函数里，self 这个参数是必须的\n",
    "    # 类 Song 有一个 __init__,接收 self 和 lyrics 作为参数\n",
    "        self.lyrics = lyrics  # 为初始参数设置默认值，用点（.）的方式，给参数赋值\n",
    "        \n",
    "    def sing_me_a_song(self): # 类 Song 有一个函数名为 sing_me_a_song, 它接收 self 参数\n",
    "        for line in self.lyrics: \n",
    "            print(line)\n",
    "            \n",
    "    def sing_a_song(self):\n",
    "       for lines in self.lyrics:\n",
    "           print(lines)\n",
    "        \n",
    "happy_baby = Song([\"Happy birthday to you\",\n",
    "                   \"I don't want to get sued\",\n",
    "                   \"So I'll stop right there\"]) # 类 Song 实例化，就是将具体的歌词传给 Song 类\n",
    "                \n",
    "bulls_on_parade = Song([\"They rally around the family\",\n",
    "                        \"With pockets full of shells\"]) # 实例化\n",
    "                        \n",
    "yuanchen = Song([\"多谢你如此精彩耀眼\",\n",
    "                 \"做我平淡岁月里星辰\"]) # 将 yuanchen 设为类 Song 的一个实例\n",
    "                 \n",
    "jiewo = Song([\"借我不惧碾压的鲜活\",\n",
    "              \"借我生命与猛撞不问明天\",\n",
    "              \"借我一束光照亮黯淡\",\n",
    "              \"借我笑颜灿烂如春天\"]) # 将 jiewo 设为类 Song 的一个实例\n",
    "                    \n",
    "happy_baby.sing_me_a_song() \n",
    "\n",
    "bulls_on_parade.sing_me_a_song()\n",
    "\n",
    "yuanchen.sing_me_a_song() # 从 yuanchen 中找到 sing_me_a_song 方法，使用 self 参数调用它\n",
    "\n",
    "jiewo.sing_a_song() # 用 jiewo 调用类 Song 的 sing_a_song 方法，使用 self 参数"
   ]
  },
  {
   "cell_type": "markdown",
   "metadata": {
    "collapsed": true
   },
   "source": [
    "***\n",
    "\n",
    "我们依然是倒着看代码，从调用结果看起。这段代码是我要打印一些歌词，歌海茫茫，用一首打一首效率太低了。那么，就写一一段代码，用来执行歌词的打印，这样，当我想要打印某一歌词的时候，直接用一串命令就可以打印（比如代码段的最后一行jiewo.sing_a_song() ），省去了每次打印的时候的重复工作。\n",
    "\n",
    "可见，类就像一段准备好了的代码，当你需要的时候，就将其实例化（赋值给具体事物），比如有一个名字叫做“动物”的类，里面包含其属性和方法。现在让「猫」这个具体的动物，拥有类中的属性和方法，这个就叫类的实例化。然后可以用点(.)来调用你所需要的类里面的方法和属性实现自己想要的值。\n",
    "\n",
    "关于类，先简单了解这么多"
   ]
  },
  {
   "cell_type": "markdown",
   "metadata": {},
   "source": [
    "**总结：** 由上面的介绍，数据类型是我们运用 python 时要了解的它的工作对象，变量、函数和类就好像是 python 的工作方法，这三种方法，一个比一个结构复杂，但是一个比一个强大，能够消除重复，能够让程序以更简短的代码完成相同的工作，从而做到简洁而优雅。"
   ]
  }
 ],
 "metadata": {
  "kernelspec": {
   "display_name": "Python 3",
   "language": "python",
   "name": "python3"
  },
  "language_info": {
   "codemirror_mode": {
    "name": "ipython",
    "version": 3
   },
   "file_extension": ".py",
   "mimetype": "text/x-python",
   "name": "python",
   "nbconvert_exporter": "python",
   "pygments_lexer": "ipython3",
   "version": "3.6.1"
  }
 },
 "nbformat": 4,
 "nbformat_minor": 2
}
