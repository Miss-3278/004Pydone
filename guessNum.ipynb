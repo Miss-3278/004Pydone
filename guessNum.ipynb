{
 "cells": [
  {
   "cell_type": "code",
   "execution_count": 22,
   "metadata": {},
   "outputs": [
    {
     "name": "stdout",
     "output_type": "stream",
     "text": [
      "请输入数字：5\n",
      "比正确答案小了\n",
      "请输入数字：12\n",
      "比正确答案小了\n",
      "请输入数字：19\n",
      "比正确答案大了\n",
      "请输入数字：16\n",
      "比正确答案小了\n",
      "请输入数字：17\n",
      "答案正确，答案就是 17\n",
      "结束\n"
     ]
    }
   ],
   "source": [
    "#! /urs/bin/env python\n",
    "# coding=utf-8\n",
    "\n",
    "# 一个猜数字的小游戏\n",
    "\n",
    "import random\n",
    "\n",
    "r = random.randint(1, 20)\n",
    "\n",
    "for guessTaken in range(1, 11):\n",
    "    Guess = int(input(\"请输入数字：\"))\n",
    "\n",
    "    if Guess < r:\n",
    "        print('比正确答案小了')\n",
    "    elif Guess > r:\n",
    "        print('比正确答案大了')\n",
    "    else:\n",
    "        break\n",
    "        \n",
    "if Guess == r:\n",
    "    print(\"答案正确，答案就是 \" + str(r) + \"\\n结束\")\n",
    "    \n",
    "        "
   ]
  },
  {
   "cell_type": "code",
   "execution_count": null,
   "metadata": {
    "collapsed": true
   },
   "outputs": [],
   "source": []
  },
  {
   "cell_type": "code",
   "execution_count": null,
   "metadata": {
    "collapsed": true
   },
   "outputs": [],
   "source": []
  }
 ],
 "metadata": {
  "kernelspec": {
   "display_name": "Python 3",
   "language": "python",
   "name": "python3"
  },
  "language_info": {
   "codemirror_mode": {
    "name": "ipython",
    "version": 3
   },
   "file_extension": ".py",
   "mimetype": "text/x-python",
   "name": "python",
   "nbconvert_exporter": "python",
   "pygments_lexer": "ipython3",
   "version": "3.6.1"
  }
 },
 "nbformat": 4,
 "nbformat_minor": 2
}
