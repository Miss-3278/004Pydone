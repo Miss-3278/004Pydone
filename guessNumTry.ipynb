{
 "cells": [
  {
   "cell_type": "code",
   "execution_count": 45,
   "metadata": {},
   "outputs": [
    {
     "name": "stdout",
     "output_type": "stream",
     "text": [
      "1\n"
     ]
    }
   ],
   "source": [
    "#！/urs/bin/env python\n",
    "# coding=utf-8\n",
    "\n",
    "# 猜数字小游戏进阶版\n",
    "\n",
    "# 程序内部用 0 - 9 生成一个四位数，每个位置上的数字不重复，且首位数字不为零，如 1942\n",
    "\n",
    "import random\n",
    "\n",
    "Numlist = []\n",
    "\n",
    "for firstNum in range(1, 9):\n",
    "    for secondNum in range(0, 9):\n",
    "        for thirdNum in range(0, 9):\n",
    "            for fourthNum in range(0, 9):\n",
    "                if (firstNum != secondNum) and (firstNum != secondNum) and (firstNum != thirdNum) and (secondNum != thirdNum) and (secondNum != fourthNum) and (thirdNum != fourthNum):\n",
    "                    Numlist.append([firstNum, secondNum, thirdNum, fourthNum])\n",
    "                    \n",
    "secretNumlist = len(random.sample(Numlist, 1)) # 从列表中随机获取相关片段的长度\n",
    "print(secretNumlist)\n",
    "\n",
    "\n",
    "               "
   ]
  },
  {
   "cell_type": "code",
   "execution_count": 74,
   "metadata": {},
   "outputs": [
    {
     "name": "stdout",
     "output_type": "stream",
     "text": [
      "['7', '6', '1', '4']\n",
      "请输入一个四位数： 5498\n",
      "['5', '4', '9', '8']\n",
      "请输入一个四位数： 8974\n",
      "['8', '9', '7', '4']\n",
      "请输入一个四位数： \n"
     ]
    },
    {
     "ename": "ValueError",
     "evalue": "invalid literal for int() with base 10: ''",
     "output_type": "error",
     "traceback": [
      "\u001b[0;31m---------------------------------------------------------------------------\u001b[0m",
      "\u001b[0;31mValueError\u001b[0m                                Traceback (most recent call last)",
      "\u001b[0;32m<ipython-input-74-fd9b9946a82a>\u001b[0m in \u001b[0;36m<module>\u001b[0;34m()\u001b[0m\n\u001b[1;32m     27\u001b[0m \u001b[0;34m\u001b[0m\u001b[0m\n\u001b[1;32m     28\u001b[0m \u001b[0;32mfor\u001b[0m \u001b[0mguessTaken\u001b[0m \u001b[0;32min\u001b[0m \u001b[0mrange\u001b[0m\u001b[0;34m(\u001b[0m\u001b[0;36m1\u001b[0m\u001b[0;34m,\u001b[0m \u001b[0;36m11\u001b[0m\u001b[0;34m)\u001b[0m\u001b[0;34m:\u001b[0m\u001b[0;34m\u001b[0m\u001b[0m\n\u001b[0;32m---> 29\u001b[0;31m     \u001b[0mGuess\u001b[0m \u001b[0;34m=\u001b[0m \u001b[0mstr\u001b[0m\u001b[0;34m(\u001b[0m\u001b[0mint\u001b[0m\u001b[0;34m(\u001b[0m\u001b[0minput\u001b[0m\u001b[0;34m(\u001b[0m\u001b[0;34m\"请输入一个四位数： \"\u001b[0m\u001b[0;34m)\u001b[0m\u001b[0;34m)\u001b[0m\u001b[0;34m)\u001b[0m\u001b[0;34m\u001b[0m\u001b[0m\n\u001b[0m\u001b[1;32m     30\u001b[0m     \u001b[0mGuesslist\u001b[0m \u001b[0;34m=\u001b[0m \u001b[0;34m[\u001b[0m\u001b[0;34m]\u001b[0m\u001b[0;34m\u001b[0m\u001b[0m\n\u001b[1;32m     31\u001b[0m     \u001b[0;32mfor\u001b[0m \u001b[0mi\u001b[0m \u001b[0;32min\u001b[0m \u001b[0mGuess\u001b[0m\u001b[0;34m:\u001b[0m\u001b[0;34m\u001b[0m\u001b[0m\n",
      "\u001b[0;31mValueError\u001b[0m: invalid literal for int() with base 10: ''"
     ]
    }
   ],
   "source": [
    "#！/urs/bin/env python\n",
    "# coding=utf-8\n",
    "\n",
    "# 猜数字小游戏进阶版\n",
    "\n",
    "# 程序内部用 0 - 9 生成一个四位数，每个位置上的数字不重复，且首位数字不为零，如 1942\n",
    "\n",
    "import random\n",
    "\n",
    "for firstNum in range(1, 9):\n",
    "    for secondNum in range(0, 9):\n",
    "        for thirdNum in range(0, 9):\n",
    "            for fourthNum in range(0, 9):\n",
    "                if (firstNum != secondNum) and (firstNum != secondNum) and (firstNum != thirdNum) and (secondNum != thirdNum) and (secondNum != fourthNum) and (thirdNum != fourthNum):\n",
    "                    Num = int(str(firstNum)+str(secondNum)+str(thirdNum)+str(fourthNum))\n",
    "                    listNum.append(Num)\n",
    "                    \n",
    "secretNum = str(random.sample(listNum,1))\n",
    "s1, s2, s3, s4 = secretNum[1], secretNum[2], secretNum[3], secretNum[4]\n",
    "secretNumlist = []\n",
    "secretNumlist.append(s1)\n",
    "secretNumlist.append(s2)\n",
    "secretNumlist.append(s3)\n",
    "secretNumlist.append(s4)\n",
    "print(secretNumlist)\n",
    "\n",
    "\n",
    "for guessTaken in range(1, 11):\n",
    "    Guess = str(int(input(\"请输入一个四位数： \")))\n",
    "    Guesslist = []\n",
    "    for i in Guess:\n",
    "        Guesslist.append(i)\n",
    "    print(Guesslist)\n",
    "        \n",
    "    \n",
    "    for j in range(len(Guesslist)):\n",
    "        if Guesslist[j] in secretNumlist:\n",
    "            print(Guesslist[j])\n",
    "        else:\n",
    "            break\n",
    "        \n",
    "        \n",
    "     \n",
    "        \n",
    "        \n",
    "        \n",
    "    \n",
    "    "
   ]
  },
  {
   "cell_type": "code",
   "execution_count": 68,
   "metadata": {},
   "outputs": [
    {
     "ename": "IndentationError",
     "evalue": "unexpected indent (<ipython-input-68-fc06518b8832>, line 2)",
     "output_type": "error",
     "traceback": [
      "\u001b[0;36m  File \u001b[0;32m\"<ipython-input-68-fc06518b8832>\"\u001b[0;36m, line \u001b[0;32m2\u001b[0m\n\u001b[0;31m    listNum.append(Num)\u001b[0m\n\u001b[0m    ^\u001b[0m\n\u001b[0;31mIndentationError\u001b[0m\u001b[0;31m:\u001b[0m unexpected indent\n"
     ]
    }
   ],
   "source": [
    "Num = int(str(firstNum)+str(secondNum)+str(thirdNum)+str(fourthNum))\n",
    "                    listNum.append(Num)\n",
    "                    \n",
    "secretNum = random.sample(listNum,1)\n",
    "print(secretNum)"
   ]
  },
  {
   "cell_type": "code",
   "execution_count": null,
   "metadata": {
    "collapsed": true
   },
   "outputs": [],
   "source": [
    "     Num = int(str(firstNum)+str(secondNum)+str(thirdNum)+str(fourthNum))\n",
    "                    \n",
    "                    \n",
    "                    listNum.append(Num)\n",
    "                    \n",
    "secretNum = random.sample(listNum,1)\n",
    "print(secretNum)\n",
    "                    "
   ]
  },
  {
   "cell_type": "code",
   "execution_count": null,
   "metadata": {
    "collapsed": true
   },
   "outputs": [],
   "source": [
    "   \n",
    "    for k in range(len(secretNumlist)):\n",
    "            print(k)   \n",
    "     "
   ]
  }
 ],
 "metadata": {
  "kernelspec": {
   "display_name": "Python 3",
   "language": "python",
   "name": "python3"
  },
  "language_info": {
   "codemirror_mode": {
    "name": "ipython",
    "version": 3
   },
   "file_extension": ".py",
   "mimetype": "text/x-python",
   "name": "python",
   "nbconvert_exporter": "python",
   "pygments_lexer": "ipython3",
   "version": "3.6.1"
  }
 },
 "nbformat": 4,
 "nbformat_minor": 2
}
